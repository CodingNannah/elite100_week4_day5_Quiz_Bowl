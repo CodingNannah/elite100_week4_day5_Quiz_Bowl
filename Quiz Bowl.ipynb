{
 "cells": [
  {
   "cell_type": "markdown",
   "id": "bd174182",
   "metadata": {},
   "source": [
    "# Quiz Bowl!"
   ]
  },
  {
   "cell_type": "code",
   "execution_count": null,
   "id": "01eb9936",
   "metadata": {},
   "outputs": [],
   "source": [
    "import requests\n",
    "\n",
    "url='https://cae-bootstore.herokuapp.com'\n",
    "\n",
    "endpoint_login = '/login'\n",
    "endpoint_user = '/user'\n",
    "\n",
    "# Post\n",
    "endpoint_my_questions = '/question'\n",
    "\n",
    "# Put\n",
    "endpoint_change_my_questions = '/question/<id>'\n",
    "\n",
    "# Get\n",
    "# These two require token:\n",
    "endpoint_all_questions = '/question/all'\n",
    "endpoint_my_questions = '/question'\n",
    "\n",
    "# Delete\n",
    "endpoint_delete_questions = '/question/<id>'\n"
   ]
  },
  {
   "cell_type": "code",
   "execution_count": 3,
   "id": "61388367",
   "metadata": {},
   "outputs": [],
   "source": [
    "# Map of Quiz Bowl Homework in the Jupyter:\n",
    "\n",
    "# \"\"\"\n",
    "# Authentication - Registration\n",
    "# Authentication - Basic\n",
    "# Authentication - Token\n",
    "\n",
    "# Post Requests\n",
    "# Put Requests\n",
    "# Get Requests\n",
    "# Delete Requests\n",
    "\n",
    "# Make an Application\n",
    "\n",
    "# \"\"\""
   ]
  },
  {
   "cell_type": "markdown",
   "id": "28195faf",
   "metadata": {},
   "source": [
    "### Authentication - Registration\n",
    "My registration"
   ]
  },
  {
   "cell_type": "code",
   "execution_count": null,
   "id": "29578d9b",
   "metadata": {},
   "outputs": [],
   "source": [
    "import json\n",
    "\n",
    "\n",
    "def register_user(payload):\n",
    "    payload_json_string=json.dumps(payload)\n",
    "    headers = {\n",
    "        'Content-Type': 'application/json'\n",
    "    }\n",
    "\n",
    "    response = requests.post(\n",
    "        url + endpoint_user,\n",
    "        data = payload_json_string,\n",
    "        headers = headers\n",
    "    )\n",
    "    return response.text\n",
    "\n",
    "dianas_payload={\n",
    "        \"email\":\"codingnannah@gmail.com\",\n",
    "        \"first_name\":\"Diana\",\n",
    "        \"last_name\":\"Barber\",\n",
    "        \"password\":\"123\"\n",
    "}    \n",
    "\n",
    "register_user(dianas_payload)\n",
    "print(response.text)"
   ]
  },
  {
   "cell_type": "markdown",
   "id": "5030d3c7",
   "metadata": {},
   "source": [
    "### Authentication - Basic Authorization\n",
    "My basic authorization"
   ]
  },
  {
   "cell_type": "code",
   "execution_count": null,
   "id": "7eda92ba",
   "metadata": {},
   "outputs": [],
   "source": [
    "import base64\n",
    "\n",
    "def login_user(user_name, password):\n",
    "    \n",
    "    auth_string = user_name+':'+password\n",
    "    \n",
    "    headers = {\n",
    "        'Authorization': \"Basic \"+base64.b64encode(auth_string.encode()).decode()\n",
    "    }\n",
    "\n",
    "    user_data = requests.get(\n",
    "        url + endpoint_login,\n",
    "        headers = headers\n",
    "    )\n",
    "    return user_data.json()\n",
    "\n",
    "print(login_user('codingnannah@gmail.com','123'))"
   ]
  },
  {
   "cell_type": "markdown",
   "id": "3acb6a8b",
   "metadata": {},
   "source": [
    "### Authentication - Bearer Authorization for PUT requests\n",
    "My last name edit"
   ]
  },
  {
   "cell_type": "markdown",
   "id": "346bee0c",
   "metadata": {},
   "source": [
    "#### Print Token\n",
    "My token"
   ]
  },
  {
   "cell_type": "code",
   "execution_count": null,
   "id": "c33527e6",
   "metadata": {},
   "outputs": [],
   "source": [
    "diana = login_user('codingnannah@gmail.com','123')\n",
    "print(diana['token'])"
   ]
  },
  {
   "cell_type": "markdown",
   "id": "722721a0",
   "metadata": {},
   "source": [
    "##### Edit User"
   ]
  },
  {
   "cell_type": "code",
   "execution_count": null,
   "id": "d1e918e8",
   "metadata": {
    "scrolled": true
   },
   "outputs": [],
   "source": [
    "# import json\n",
    "\n",
    "# Edits user payload options\n",
    "\n",
    "def edit_user(token, payload):\n",
    "    payload_json_string=json.dumps(payload)\n",
    "    headers = {\n",
    "        'Content-Type' : 'application/json',\n",
    "        'Authorization' : 'Bearer ' + token\n",
    "    }\n",
    "\n",
    "    response = requests.put(\n",
    "        url + endpoint_user,\n",
    "        data = payload_json_string,\n",
    "        headers = headers\n",
    "    )\n",
    "    return response.status_code\n",
    "\n",
    "\n",
    "\n",
    "dianas_edit_payload = {\n",
    "    \"last_name\": \"Barber\"\n",
    "}\n",
    "    \n",
    "\n",
    "print(edit_user(diana['token'], dianas_edit_payload))\n",
    "\n",
    "diana = login_user('codingnannah@gmail.com','123')\n",
    "print(diana['last_name'])\n"
   ]
  },
  {
   "cell_type": "markdown",
   "id": "5be1ca1c",
   "metadata": {},
   "source": [
    "### POST requests"
   ]
  },
  {
   "cell_type": "code",
   "execution_count": 4,
   "id": "0d3f6f52",
   "metadata": {},
   "outputs": [],
   "source": [
    "###### My questions"
   ]
  },
  {
   "cell_type": "code",
   "execution_count": null,
   "id": "9d2d415d",
   "metadata": {},
   "outputs": [],
   "source": [
    "# Allows authenticated user (as author) to post questions and answers\n",
    "\n",
    "# Post\n",
    "endpoint_my_questions = '/question'\n",
    "\n",
    "def my_questions(token, payload):                            # name of function + (authorization = token) (payload is q & A)\n",
    "    payload_json_string=json.dumps(payload)\n",
    "    headers = {\n",
    "        'Content-Type' : 'application/json',\n",
    "        'Authorization' : 'Bearer ' + token\n",
    "    }\n",
    "\n",
    "    response = requests.put(\n",
    "        url + endpoint_my_questions,\n",
    "        data = payload_json_string,\n",
    "        headers = headers\n",
    "    )\n",
    "    return response.status_code\n",
    "\n",
    "# example payload:\n",
    "# {\n",
    "#     \"question\":\"What is bright orange with green on top and sounds like a parrot?\",\n",
    "#     \"answer\":\"parrot\"\n",
    "# }\n"
   ]
  },
  {
   "cell_type": "markdown",
   "id": "ab80b862",
   "metadata": {},
   "source": [
    "### PUT requests"
   ]
  },
  {
   "cell_type": "markdown",
   "id": "a2c5f4c5",
   "metadata": {},
   "source": [
    "##### Change my question"
   ]
  },
  {
   "cell_type": "code",
   "execution_count": null,
   "id": "4359b2f3",
   "metadata": {},
   "outputs": [],
   "source": [
    "# Edits a Question with the id <id> if the token owner is the author of the question\n",
    "\n",
    "def edit_question(token, payload):                   # payload is dictionary with q &/or a\n",
    "    payload_json_string=json.dumps(payload)\n",
    "    headers = {\n",
    "        'Content-Type' : 'application/json',\n",
    "        'Authorization' : 'Bearer ' + token\n",
    "    }\n",
    "\n",
    "    response = requests.put(\n",
    "        url + endpoint_change_my_questions,\n",
    "        data = payload_json_string,\n",
    "        headers = headers\n",
    "    )\n",
    "    return response.status_code\n",
    "\n",
    "# Request to /question/2\n",
    "# {\n",
    "#     \"answer\":\"parrot\"\n",
    "# }\n",
    "\n",
    "# print(my_question['id'])"
   ]
  },
  {
   "cell_type": "markdown",
   "id": "18fae8a5",
   "metadata": {},
   "source": [
    "### GET requests"
   ]
  },
  {
   "cell_type": "code",
   "execution_count": null,
   "id": "32132951",
   "metadata": {},
   "outputs": [],
   "source": [
    "# Gets all questions/answers that everyone submits\n",
    "\n",
    "def get_all_questions():\n",
    "    all_questions = requests.get(url+endpoint_all_questions)\n",
    "    return all_questions.json()['all_questions']\n",
    "all_questions = get_all_questions()\n",
    "\n",
    "print(all_questions)"
   ]
  },
  {
   "cell_type": "code",
   "execution_count": null,
   "id": "5504d196",
   "metadata": {},
   "outputs": [],
   "source": [
    "# Gets only authorized logged in user's questions/answers\n",
    "\n",
    "def get_my_questions():\n",
    "    my_questions = requests.get(url+endpoint_my_questions)\n",
    "    return my_questions.json()['my_questions']\n",
    "my_questions = get_my_questions()\n",
    "\n",
    "print(my_questions)"
   ]
  },
  {
   "cell_type": "markdown",
   "id": "3d961a6e",
   "metadata": {},
   "source": [
    "### DELETE Requests"
   ]
  },
  {
   "cell_type": "markdown",
   "id": "93904b62",
   "metadata": {},
   "source": [
    "#### User"
   ]
  },
  {
   "cell_type": "code",
   "execution_count": null,
   "id": "22342aca",
   "metadata": {},
   "outputs": [],
   "source": [
    "def delete_user(token):\n",
    "    \n",
    "    headers = {\n",
    "        'Authorization': \"Bearer \" + token\n",
    "    }\n",
    "\n",
    "    response = requests.delete(\n",
    "        url + endpoint_user,\n",
    "        headers = headers\n",
    "    )\n",
    "    return response.text\n",
    "\n",
    "print(delete_user(jim['token']))\n",
    "\n",
    "# check:\n",
    "# jim=login_user('jimb@eam7.com','123')"
   ]
  },
  {
   "cell_type": "markdown",
   "id": "3a3da636",
   "metadata": {},
   "source": [
    "#### My questions\n"
   ]
  },
  {
   "cell_type": "code",
   "execution_count": null,
   "id": "305de4e7",
   "metadata": {},
   "outputs": [],
   "source": [
    "# Deletes a question with the id <id> if the token owner is the author of the question\n",
    "\n",
    "def delete_questions(token):\n",
    "    \n",
    "    headers = {\n",
    "        'Authorization': \"Bearer \" + token\n",
    "    }\n",
    "\n",
    "    response = requests.delete(\n",
    "        url + endpoint_delete_questions,\n",
    "        headers = headers\n",
    "    )\n",
    "    return response.text\n",
    "\n",
    "print(delete_questions['id'])\n",
    "\n",
    "\n",
    "# example DELETE endpoint to delete post with id 2: \n",
    "# DELETE https://cae-bootstore.herokuapp.com/question/2\n"
   ]
  },
  {
   "cell_type": "markdown",
   "id": "3e692751",
   "metadata": {},
   "source": [
    "### Make an Application"
   ]
  },
  {
   "cell_type": "code",
   "execution_count": null,
   "id": "800a3407",
   "metadata": {},
   "outputs": [],
   "source": [
    "from getpass import getpass\n",
    "import time\n",
    "from IPython.display import clear_output\n",
    "from IPython.display import Image\n",
    "from IPython.display import display\n",
    "\n",
    "def login(email):\n",
    "    clear_output()\n",
    "    password=getpass(\"Password: \")\n",
    "    user=login_user(email, password)\n",
    "    return user\n",
    "\n",
    "def register():\n",
    "    clear_output()\n",
    "    print(\"Registration:\")\n",
    "    email=input(\"Email: \")\n",
    "    first_name=input(\"First Name: \")\n",
    "    last_name=input(\"Last Name: \")\n",
    "    password=getpass(\"Password: \")\n",
    "    \n",
    "    user_dict={\n",
    "        \"email\":email,\n",
    "        \"first_name\":first_name,\n",
    "        \"last_name\":last_name,\n",
    "        \"password\":password\n",
    "    }\n",
    "    return register_user(user_dict)\n",
    "\n",
    "\n",
    "def main():\n",
    "    pass\n",
    "\n",
    "\n",
    "\n",
    "\n",
    "            \n",
    "main()"
   ]
  }
 ],
 "metadata": {
  "kernelspec": {
   "display_name": "Python 3.10.5 64-bit",
   "language": "python",
   "name": "python3"
  },
  "language_info": {
   "codemirror_mode": {
    "name": "ipython",
    "version": 3
   },
   "file_extension": ".py",
   "mimetype": "text/x-python",
   "name": "python",
   "nbconvert_exporter": "python",
   "pygments_lexer": "ipython3",
   "version": "3.10.5"
  },
  "vscode": {
   "interpreter": {
    "hash": "26de051ba29f2982a8de78e945f0abaf191376122a1563185a90213a26c5da77"
   }
  }
 },
 "nbformat": 4,
 "nbformat_minor": 5
}
